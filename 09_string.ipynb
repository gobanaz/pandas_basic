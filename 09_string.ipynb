{
 "cells": [
  {
   "cell_type": "markdown",
   "metadata": {},
   "source": [
    "# 문자열 처리\n",
    "    9-1 문자열 다루기\n",
    "    9-2 문자열 메서드\n",
    "    9-3 문자열 포매팅\n",
    "    9-4 정규표현식"
   ]
  },
  {
   "cell_type": "markdown",
   "metadata": {},
   "source": [
    "### 9-1 문자열 다루기\n",
    "    pass"
   ]
  },
  {
   "cell_type": "code",
   "execution_count": 12,
   "metadata": {},
   "outputs": [
    {
     "name": "stdout",
     "output_type": "stream",
     "text": [
      "asrth\n"
     ]
    }
   ],
   "source": [
    "word = 'grail'\n",
    "sent = 'a scratch'\n",
    "\n",
    "print(sent[::2])    #거리 2칸씩 뛰며 추출"
   ]
  },
  {
   "cell_type": "markdown",
   "metadata": {},
   "source": [
    "### 9-2 문자열 메서드\n",
    "    capitalize : 첫 문자를 대문자로 변환\n",
    "    count : 문자열 갯수 리턴\n",
    "    startswith : 문자열이 특정 문자로 시작하면 참\n",
    "    endswith : 문자열이 특정 문자로 끝나면 참\n",
    "    find : 찾을 문자열의 첫 인덱스 리턴, 실패시 -1 리턴\n",
    "    index : find 메서드와 같은 역할 수행, 실패시 ValueError 리턴\n",
    "    isalpha : 모든 문자가 알파벳이면 참\n",
    "    isdecimal : 모든 문자가 숫자면 참\n",
    "    isalnum : 모든 문자가 알파벳 or 숫자면 참\n",
    "    lower : 모든 문자를 소문자로 변환\n",
    "    upper : 모든 문자 대문자로 변환\n",
    "    replace : 문자열의 문자를 다른문자로 교체\n",
    "    strip : 문자열 앞/뒤 빈칸 제거\n",
    "    split : 구분자 기준 문자열 나눔, 나눈 문자열 리스트 리턴\n",
    "    partition : split과 비슷한 역할 수행, 구분자도 리턴\n",
    "    center  :지정한 너비로 문자열 늘이고, 문자열 가운데 정렬\n",
    "    zfill  :문자열의 빈칸 0으로 채움"
   ]
  },
  {
   "cell_type": "markdown",
   "metadata": {},
   "source": [
    "##### 파이썬 문자열 메서드 실습"
   ]
  },
  {
   "cell_type": "code",
   "execution_count": 14,
   "metadata": {},
   "outputs": [
    {
     "data": {
      "text/plain": [
       "'Black knight'"
      ]
     },
     "execution_count": 14,
     "metadata": {},
     "output_type": "execute_result"
    }
   ],
   "source": [
    "#capitalize : 첫 문자를 대문자로 변환\n",
    "\"black Knight\".capitalize()"
   ]
  },
  {
   "cell_type": "code",
   "execution_count": 15,
   "metadata": {},
   "outputs": [
    {
     "data": {
      "text/plain": [
       "2"
      ]
     },
     "execution_count": 15,
     "metadata": {},
     "output_type": "execute_result"
    }
   ],
   "source": [
    "#count : 문자열 갯수 리턴\n",
    "\"It's just a flesh wound!\".count('u')\n"
   ]
  },
  {
   "cell_type": "code",
   "execution_count": 17,
   "metadata": {},
   "outputs": [
    {
     "data": {
      "text/plain": [
       "True"
      ]
     },
     "execution_count": 17,
     "metadata": {},
     "output_type": "execute_result"
    }
   ],
   "source": [
    "#startswith : 문자열이 특정 문자로 시작하면 참\n",
    "\"Halt! Who goes there?\".startswith('Halt')"
   ]
  },
  {
   "cell_type": "code",
   "execution_count": 18,
   "metadata": {},
   "outputs": [
    {
     "data": {
      "text/plain": [
       "True"
      ]
     },
     "execution_count": 18,
     "metadata": {},
     "output_type": "execute_result"
    }
   ],
   "source": [
    "#endswith : 문자열이 특정 문자로 끝나면 참\n",
    "\"coconut\".endswith('nut')"
   ]
  },
  {
   "cell_type": "code",
   "execution_count": 19,
   "metadata": {},
   "outputs": [
    {
     "data": {
      "text/plain": [
       "6"
      ]
     },
     "execution_count": 19,
     "metadata": {},
     "output_type": "execute_result"
    }
   ],
   "source": [
    "#find : 찾을 문자열의 첫 인덱스 리턴, 실패시 -1 리턴\n",
    "\"It's just a flesh wound!\".find('u')"
   ]
  },
  {
   "cell_type": "code",
   "execution_count": 20,
   "metadata": {},
   "outputs": [
    {
     "ename": "ValueError",
     "evalue": "substring not found",
     "output_type": "error",
     "traceback": [
      "\u001b[1;31m---------------------------------------------------------------------------\u001b[0m",
      "\u001b[1;31mValueError\u001b[0m                                Traceback (most recent call last)",
      "\u001b[1;32m~\\AppData\\Local\\Temp/ipykernel_17880/2832880870.py\u001b[0m in \u001b[0;36m<module>\u001b[1;34m\u001b[0m\n\u001b[0;32m      1\u001b[0m \u001b[1;31m#index : find 메서드와 같은 역할 수행, 실패시 ValueError 리턴\u001b[0m\u001b[1;33m\u001b[0m\u001b[1;33m\u001b[0m\u001b[0m\n\u001b[1;32m----> 2\u001b[1;33m \u001b[1;34m\"It's just a flesh wound!\"\u001b[0m\u001b[1;33m.\u001b[0m\u001b[0mindex\u001b[0m\u001b[1;33m(\u001b[0m\u001b[1;34m'scratch'\u001b[0m\u001b[1;33m)\u001b[0m\u001b[1;33m\u001b[0m\u001b[1;33m\u001b[0m\u001b[0m\n\u001b[0m",
      "\u001b[1;31mValueError\u001b[0m: substring not found"
     ]
    }
   ],
   "source": [
    "#index : find 메서드와 같은 역할 수행, 실패시 ValueError 리턴\n",
    "\"It's just a flesh wound!\".index('scratch')"
   ]
  },
  {
   "cell_type": "code",
   "execution_count": 25,
   "metadata": {},
   "outputs": [
    {
     "data": {
      "text/plain": [
       "False"
      ]
     },
     "execution_count": 25,
     "metadata": {},
     "output_type": "execute_result"
    }
   ],
   "source": [
    "#isalpha : 모든 문자가 알파벳이면 참\n",
    "'old woman'.isalpha()   #False\n",
    "#'oldwoman'.isalpha()   #True"
   ]
  },
  {
   "cell_type": "code",
   "execution_count": 26,
   "metadata": {},
   "outputs": [
    {
     "data": {
      "text/plain": [
       "True"
      ]
     },
     "execution_count": 26,
     "metadata": {},
     "output_type": "execute_result"
    }
   ],
   "source": [
    "#isdecimal : 모든 문자가 숫자면 참\n",
    "'37'.isdecimal()"
   ]
  },
  {
   "cell_type": "code",
   "execution_count": 32,
   "metadata": {},
   "outputs": [
    {
     "data": {
      "text/plain": [
       "False"
      ]
     },
     "execution_count": 32,
     "metadata": {},
     "output_type": "execute_result"
    }
   ],
   "source": [
    "#isalnum : 모든 문자가 알파벳 or 숫자면 참(섞여있으면 False)\n",
    "\"I'm 37\".isalnum()"
   ]
  },
  {
   "cell_type": "code",
   "execution_count": 33,
   "metadata": {},
   "outputs": [
    {
     "data": {
      "text/plain": [
       "'black knight'"
      ]
     },
     "execution_count": 33,
     "metadata": {},
     "output_type": "execute_result"
    }
   ],
   "source": [
    "#lower : 모든 문자를 소문자로 변환\n",
    "\"Black Knight\".lower()"
   ]
  },
  {
   "cell_type": "code",
   "execution_count": 34,
   "metadata": {},
   "outputs": [
    {
     "data": {
      "text/plain": [
       "'BLACK KNIGHT'"
      ]
     },
     "execution_count": 34,
     "metadata": {},
     "output_type": "execute_result"
    }
   ],
   "source": [
    "#upper : 모든 문자 대문자로 변환\n",
    "'Black Knight'.upper()"
   ]
  },
  {
   "cell_type": "code",
   "execution_count": 35,
   "metadata": {},
   "outputs": [
    {
     "data": {
      "text/plain": [
       "'scratch!'"
      ]
     },
     "execution_count": 35,
     "metadata": {},
     "output_type": "execute_result"
    }
   ],
   "source": [
    "#replace : 문자열의 문자를 다른문자로 교체\n",
    "'flesh wound!'.replace('flesh wound', 'scratch')"
   ]
  },
  {
   "cell_type": "code",
   "execution_count": 36,
   "metadata": {},
   "outputs": [
    {
     "data": {
      "text/plain": [
       "\"I'm not dead.\""
      ]
     },
     "execution_count": 36,
     "metadata": {},
     "output_type": "execute_result"
    }
   ],
   "source": [
    "#strip : 문자열 앞/뒤 빈칸 제거\n",
    "\" I'm not dead. \".strip()"
   ]
  },
  {
   "cell_type": "code",
   "execution_count": 37,
   "metadata": {},
   "outputs": [
    {
     "data": {
      "text/plain": [
       "['NI!', 'NI!', 'NI!', 'NI!']"
      ]
     },
     "execution_count": 37,
     "metadata": {},
     "output_type": "execute_result"
    }
   ],
   "source": [
    "#split : 구분자 기준 문자열 나눔, 나눈 문자열 리스트 리턴\n",
    "\"NI! NI! NI! NI!\".split(sep=' ')"
   ]
  },
  {
   "cell_type": "code",
   "execution_count": 38,
   "metadata": {},
   "outputs": [
    {
     "data": {
      "text/plain": [
       "('3', ',', '4')"
      ]
     },
     "execution_count": 38,
     "metadata": {},
     "output_type": "execute_result"
    }
   ],
   "source": [
    "#partition : split과 비슷한 역할 수행, 구분자도 리턴\n",
    "\"3,4\".partition(',')"
   ]
  },
  {
   "cell_type": "code",
   "execution_count": 39,
   "metadata": {},
   "outputs": [
    {
     "data": {
      "text/plain": [
       "'   nine   '"
      ]
     },
     "execution_count": 39,
     "metadata": {},
     "output_type": "execute_result"
    }
   ],
   "source": [
    "#center  :지정한 너비로 문자열 늘이고, 문자열 가운데 정렬\n",
    "\"nine\".center(10)"
   ]
  },
  {
   "cell_type": "code",
   "execution_count": 43,
   "metadata": {},
   "outputs": [
    {
     "data": {
      "text/plain": [
       "'00009'"
      ]
     },
     "execution_count": 43,
     "metadata": {},
     "output_type": "execute_result"
    }
   ],
   "source": [
    "#zfill  :문자열의 빈칸 0으로 채움\n",
    "\"9\".zfill(5)"
   ]
  },
  {
   "cell_type": "markdown",
   "metadata": {},
   "source": [
    "##### join, splitlines, replace 메서드"
   ]
  },
  {
   "cell_type": "code",
   "execution_count": 45,
   "metadata": {},
   "outputs": [
    {
     "name": "stdout",
     "output_type": "stream",
     "text": [
      "40° 46' 52.837\" N 73° 58' 26.302\" W\n"
     ]
    }
   ],
   "source": [
    "#join 메서드 : 문자열을 연결해 새로운 문자열로 리턴\n",
    "    #''.join(문자열) : join 앞 문자('')를 문자열 사이사이에 넣어 연결시켜줌\n",
    "d1 = '40°'\n",
    "m1 = \"46'\"\n",
    "s1 = '52.837\"'\n",
    "u1 = 'N'\n",
    "\n",
    "d2 = '73°'\n",
    "m2 = \"58'\"\n",
    "s2 = '26.302\"'\n",
    "u2 = 'W'\n",
    "\n",
    "coords = ' '.join([d1, m1, s1, u1, d2, m2, s2, u2])\n",
    "print(coords)"
   ]
  },
  {
   "cell_type": "code",
   "execution_count": 46,
   "metadata": {},
   "outputs": [
    {
     "name": "stdout",
     "output_type": "stream",
     "text": [
      "Guard: What? Ridden on a horse?\n",
      "King Arthur: Yes!\n",
      "Guard: You're using coconuts!\n",
      "ing Arthur: What?\n",
      "Guard: You've got ... coconut[s] and you're bangin' 'em together.\n",
      "\n"
     ]
    }
   ],
   "source": [
    "#splitlines : 여러 행 문자열 분리후 리스트로 리턴\n",
    "multi_str = \"\"\"Guard: What? Ridden on a horse?\n",
    "King Arthur: Yes!\n",
    "Guard: You're using coconuts!\n",
    "ing Arthur: What?\n",
    "Guard: You've got ... coconut[s] and you're bangin' 'em together.\n",
    "\"\"\"\n",
    "\n",
    "print(multi_str)"
   ]
  },
  {
   "cell_type": "code",
   "execution_count": 48,
   "metadata": {},
   "outputs": [
    {
     "name": "stdout",
     "output_type": "stream",
     "text": [
      "['Guard: What? Ridden on a horse?', 'King Arthur: Yes!', \"Guard: You're using coconuts!\", 'ing Arthur: What?', \"Guard: You've got ... coconut[s] and you're bangin' 'em together.\"]\n"
     ]
    }
   ],
   "source": [
    "multi_str_split = multi_str.splitlines()\n",
    "print(multi_str_split)"
   ]
  },
  {
   "cell_type": "code",
   "execution_count": 49,
   "metadata": {},
   "outputs": [
    {
     "name": "stdout",
     "output_type": "stream",
     "text": [
      "['Guard: What? Ridden on a horse?', \"Guard: You're using coconuts!\", \"Guard: You've got ... coconut[s] and you're bangin' 'em together.\"]\n"
     ]
    }
   ],
   "source": [
    "#인덱스 슬라이싱 가능\n",
    "guard = multi_str_split[::2]\n",
    "print(guard)"
   ]
  },
  {
   "cell_type": "code",
   "execution_count": 51,
   "metadata": {},
   "outputs": [
    {
     "name": "stdout",
     "output_type": "stream",
     "text": [
      "['What? Ridden on a horse?', \"You're using coconuts!\", \"You've got ... coconut[s] and you're bangin' 'em together.\"]\n"
     ]
    }
   ],
   "source": [
    "#replace 메서드 : 위에서 추출한 문자열에 Guard: 를 없애고 싶을때\n",
    "guard = multi_str.replace(\"Guard: \", \"\").splitlines()[::2]\n",
    "print(guard)"
   ]
  },
  {
   "cell_type": "markdown",
   "metadata": {},
   "source": [
    "### 9-3 포매팅"
   ]
  },
  {
   "cell_type": "markdown",
   "metadata": {},
   "source": [
    "##### 문자열 포매팅"
   ]
  },
  {
   "cell_type": "code",
   "execution_count": 54,
   "metadata": {},
   "outputs": [
    {
     "name": "stdout",
     "output_type": "stream",
     "text": [
      "It's just a flesh wound!\n",
      "It's just a scratch!\n"
     ]
    }
   ],
   "source": [
    "#문자열 포매팅 : 출력할 문자열의 형식을 지정하거나 변수를 조합하여 출력하는 방법\n",
    "    #이때 사용하는 중괄호{}를 플레이스 홀더라고 지칭함\n",
    "var = 'flesh wound'\n",
    "s = \"It's just a {}!\"\n",
    "\n",
    "print(s.format(var))\n",
    "print(s.format('scratch'))"
   ]
  },
  {
   "cell_type": "code",
   "execution_count": 55,
   "metadata": {},
   "outputs": [
    {
     "name": "stdout",
     "output_type": "stream",
     "text": [
      "Black Knight: 'Tis but a scratch.\n",
      "King Arthur: A scratch? Your arm's off!\n",
      "\n"
     ]
    }
   ],
   "source": [
    "s = \"\"\"Black Knight: 'Tis but a {0}.\n",
    "King Arthur: A {0}? Your arm's off!\n",
    "\"\"\"\n",
    "print(s.format('scratch'))"
   ]
  },
  {
   "cell_type": "code",
   "execution_count": 56,
   "metadata": {},
   "outputs": [
    {
     "name": "stdout",
     "output_type": "stream",
     "text": [
      "Hayden Planetarium Coordinates: 40.7815° N, 73.9733° W\n"
     ]
    }
   ],
   "source": [
    "s = 'Hayden Planetarium Coordinates: {lat}, {lon}'\n",
    "print(s.format(lat='40.7815° N', lon='73.9733° W'))"
   ]
  },
  {
   "cell_type": "markdown",
   "metadata": {},
   "source": [
    "##### 숫자 데이터 포매팅"
   ]
  },
  {
   "cell_type": "code",
   "execution_count": 57,
   "metadata": {},
   "outputs": [
    {
     "name": "stdout",
     "output_type": "stream",
     "text": [
      "Some digits of pi: 3.14159265359\n"
     ]
    }
   ],
   "source": [
    "print('Some digits of pi: {}'.format(3.14159265359))"
   ]
  },
  {
   "cell_type": "code",
   "execution_count": 58,
   "metadata": {},
   "outputs": [
    {
     "name": "stdout",
     "output_type": "stream",
     "text": [
      "In 2005, Lu Chao of China recited 67,890 digits of pi\n"
     ]
    }
   ],
   "source": [
    "#플레이스 홀더에 :, 를 넣어주면 숫자에 쉼표삽입 가능\n",
    "print(\"In 2005, Lu Chao of China recited {:,} digits of pi\".format(67890))"
   ]
  },
  {
   "cell_type": "code",
   "execution_count": 61,
   "metadata": {},
   "outputs": [
    {
     "name": "stdout",
     "output_type": "stream",
     "text": [
      "I remember 0.0001031 or 0.0103% of what Lu Chao recited\n",
      "\n",
      "My ID number is 00042\n"
     ]
    }
   ],
   "source": [
    "#다양한 소수 포매팅\n",
    "print(\"I remember {0:.4} or {0:.4%} of what Lu Chao recited\".format(7/67890))\n",
    "print()\n",
    "print(\"My ID number is {0:05d}\".format(42))"
   ]
  },
  {
   "cell_type": "markdown",
   "metadata": {},
   "source": [
    "##### % 연산자 포매팅"
   ]
  },
  {
   "cell_type": "code",
   "execution_count": 63,
   "metadata": {},
   "outputs": [
    {
     "name": "stdout",
     "output_type": "stream",
     "text": [
      "I only konw 7 digits of pi\n"
     ]
    }
   ],
   "source": [
    "s = 'I only konw %d digits of pi' % 7\n",
    "print(s)"
   ]
  },
  {
   "cell_type": "code",
   "execution_count": 64,
   "metadata": {},
   "outputs": [
    {
     "name": "stdout",
     "output_type": "stream",
     "text": [
      "Some digits of e: 2.72\n"
     ]
    }
   ],
   "source": [
    "print('Some digits of %(cont)s: %(value).2f' % {'cont': 'e', 'value': 2.718})"
   ]
  },
  {
   "cell_type": "markdown",
   "metadata": {},
   "source": [
    "##### f-strings 포매팅"
   ]
  },
  {
   "cell_type": "code",
   "execution_count": 66,
   "metadata": {},
   "outputs": [
    {
     "name": "stdout",
     "output_type": "stream",
     "text": [
      "It's just a flesh wound!\n"
     ]
    }
   ],
   "source": [
    "var = 'flesh wound'\n",
    "s = f\"It's just a {var}!\"\n",
    "print(s)"
   ]
  },
  {
   "cell_type": "code",
   "execution_count": 67,
   "metadata": {},
   "outputs": [
    {
     "name": "stdout",
     "output_type": "stream",
     "text": [
      "Hayden Planetarium Coordinates: 40.7815° N, 73.9733° W\n"
     ]
    }
   ],
   "source": [
    "lat='40.7815° N'\n",
    "lon='73.9733° W'\n",
    "s = f'Hayden Planetarium Coordinates: {lat}, {lon}'\n",
    "print(s)"
   ]
  },
  {
   "cell_type": "markdown",
   "metadata": {},
   "source": [
    "### 9-4 정규식 문자열 처리\n",
    "    정규표현식 패턴 실습 사이트 : https://regex101.com"
   ]
  },
  {
   "cell_type": "markdown",
   "metadata": {},
   "source": [
    "##### 기본 정규식 문법\n",
    "    문법    실습코드    설명\n",
    "    .       .a         문자(a) 앞, 문자 1개가 있는 패턴 검색\n",
    "    ^       ^I like    문자열의 처음부터 일치하는 패턴 검색\n",
    "    $       on$        문자열의 끝부분 일치하는 패턴 검색\n",
    "    *       n\\d*       n 이후, 숫자(\\d)가 0개 이상인 패턴 검색\n",
    "    +       n\\d+       n 이후, 숫자(\\d)가 1개 이상인 패턴 검색\n",
    "    ?       apple?     ?의 앞의 문자(e)가 있거나 없는 패턴 검색\n",
    "    {m}     n\\d{2}     n 이후, 숫자(\\d)가 2개 이상인 패턴 검색\n",
    "    {m,n}   n\\d{2, 4}  n 이후, 숫자(\\d)가 2~4개 인 패턴 검색\n",
    "    \\       \\*, \\?, \\+  문자그대로의 *, ?, +를 검색할 때 이스케이프 문자(\\) 사용\n",
    "    []      [cfh]all   c, f, h 중 1개를 포함하고 나머지 문자열이 all인 패턴 검색\n",
    "    |       apple | application     apple이나 application 중 하나만 있는 패턴 검색(or연산)\n",
    "    ()      (\\d+)-(\\d+)-(\\d+)       ()에 지정한 패턴 찾을때 사용\n"
   ]
  },
  {
   "cell_type": "markdown",
   "metadata": {},
   "source": [
    "##### 정규식 특수문자\n",
    "    특수문자    설명\n",
    "    \\d          숫자 1개를 의미 == [0-9]\n",
    "    \\D          숫자 이외의 문자 1개 == [^0-9]\n",
    "    \\s          공백 1개\n",
    "    \\S          공백 이외의 문자 1개\n",
    "    \\w          알파벳 1개\n",
    "    \\W          알파벳 이외의 문자 1개(한글 등)"
   ]
  },
  {
   "cell_type": "markdown",
   "metadata": {},
   "source": [
    "##### 정규식 메서드\n",
    "    함수        설명\n",
    "    search      첫번째로 찾은 패턴의 양끝 인덱스 반환\n",
    "    match       문자열의 처음부터 검색하여 찾아낸 패턴의 양끝 인덱스 반환\n",
    "    fullmatch   전체 문자열 일치 여부 검사\n",
    "    split       지정한 패턴으로 잘라낸 문자열 리스트 반환\n",
    "    findall     지정한 패턴 찾아 리스트 반환\n",
    "    finditer    findall 메서드와 기능 동일, iterator를 리턴\n",
    "    sub         첫번째 인자로 전달한 값(패턴)을 두번째 인자로 전달한 값(easyspub)으로 교체"
   ]
  },
  {
   "cell_type": "code",
   "execution_count": 73,
   "metadata": {},
   "outputs": [],
   "source": [
    "import re"
   ]
  },
  {
   "cell_type": "code",
   "execution_count": 103,
   "metadata": {},
   "outputs": [
    {
     "name": "stdout",
     "output_type": "stream",
     "text": [
      "<re.Match object; span=(0, 4), match='1234'>\n",
      "1234\n"
     ]
    }
   ],
   "source": [
    "#search : 첫번째로 찾은 패턴의 양끝 인덱스 반환\n",
    "test = '1234 56789 39 401'\n",
    "m = re.search('[0-9]{4}', test)\n",
    "print(m)\n",
    "print(m.group())"
   ]
  },
  {
   "cell_type": "code",
   "execution_count": 104,
   "metadata": {},
   "outputs": [
    {
     "name": "stdout",
     "output_type": "stream",
     "text": [
      "<re.Match object; span=(0, 4), match='1234'>\n"
     ]
    }
   ],
   "source": [
    "#match : 문자열의 처음부터 검색하여 찾아낸 패턴의 양끝 인덱스 반환\n",
    "test = '1234 56789 39 401'\n",
    "m = re.match('[0-9]{4}', test)\n",
    "print(m)"
   ]
  },
  {
   "cell_type": "code",
   "execution_count": 105,
   "metadata": {},
   "outputs": [
    {
     "name": "stdout",
     "output_type": "stream",
     "text": [
      "True\n"
     ]
    }
   ],
   "source": [
    "#fullmatch : 전체 문자열 일치 여부 검사\n",
    "test = '1234 56789 39 401'\n",
    "#test = 'I like apple, I like to make application'\n",
    "m = re.fullmatch('\\d+\\s\\d+\\s\\d+\\s\\d+', test)\n",
    "print(bool(m))"
   ]
  },
  {
   "cell_type": "code",
   "execution_count": 106,
   "metadata": {},
   "outputs": [
    {
     "name": "stdout",
     "output_type": "stream",
     "text": [
      "['1234', '56789', '39', '401']\n"
     ]
    }
   ],
   "source": [
    "#split : 지정한 패턴으로 잘라낸 문자열 리스트 반환\n",
    "test = '1234 56789 39 401'\n",
    "m = re.split('\\s', test)\n",
    "print(m)"
   ]
  },
  {
   "cell_type": "code",
   "execution_count": 107,
   "metadata": {},
   "outputs": [
    {
     "name": "stdout",
     "output_type": "stream",
     "text": [
      "['1234', '5678']\n"
     ]
    }
   ],
   "source": [
    "#findall : 지정한 패턴 찾아 리스트 반환\n",
    "test = '1234 56789 39 401'\n",
    "m = re.findall('[0-9]{4}', test)\n",
    "print(m)"
   ]
  },
  {
   "cell_type": "code",
   "execution_count": 115,
   "metadata": {},
   "outputs": [
    {
     "name": "stdout",
     "output_type": "stream",
     "text": [
      "<callable_iterator object at 0x000001448FC6FCD0>\n",
      "1234\n",
      "5678\n"
     ]
    }
   ],
   "source": [
    "#finditer : findall 메서드와 기능 동일, iterator를 리턴\n",
    "m = re.finditer('[0-9]{4}', test)\n",
    "print(m)\n",
    "for match in m:\n",
    "    print(match.group())\n"
   ]
  },
  {
   "cell_type": "code",
   "execution_count": 116,
   "metadata": {},
   "outputs": [
    {
     "name": "stdout",
     "output_type": "stream",
     "text": [
      "1234-56789-39-401\n"
     ]
    }
   ],
   "source": [
    "#sub : 첫번째 인자로 전달한 값(패턴)을 두번째 인자로 전달한 값(easyspub)으로 교체\n",
    "test = '1234 56789 39 401'\n",
    "print(re.sub('\\s', '-', test))"
   ]
  },
  {
   "cell_type": "code",
   "execution_count": 119,
   "metadata": {},
   "outputs": [
    {
     "name": "stdout",
     "output_type": "stream",
     "text": [
      "<class 're.Match'>\n",
      "<re.Match object; span=(0, 10), match='1234567890'>\n"
     ]
    }
   ],
   "source": [
    "##### 정규식 전화번호 패턴 찾기\n",
    "import re\n",
    "tele_num = '1234567890'\n",
    "m = re.match(pattern='\\d\\d\\d\\d\\d\\d\\d\\d\\d\\d', string=tele_num)\n",
    "print(type(m))\n",
    "print(m)"
   ]
  },
  {
   "cell_type": "code",
   "execution_count": 121,
   "metadata": {},
   "outputs": [
    {
     "name": "stdout",
     "output_type": "stream",
     "text": [
      "True\n",
      "match\n"
     ]
    }
   ],
   "source": [
    "#match메서드로 패턴찾기에 성공하면 True반환\n",
    "print(bool(m))\n",
    "\n",
    "if m:\n",
    "    print('match')\n",
    "else:\n",
    "    print('no match')\n"
   ]
  },
  {
   "cell_type": "code",
   "execution_count": 122,
   "metadata": {},
   "outputs": [
    {
     "name": "stdout",
     "output_type": "stream",
     "text": [
      "0\n",
      "10\n",
      "(0, 10)\n",
      "1234567890\n"
     ]
    }
   ],
   "source": [
    "#match메서드 패턴정보 확인\n",
    "print(m.start())\n",
    "print(m.end())\n",
    "print(m.span())\n",
    "print(m.group())"
   ]
  },
  {
   "cell_type": "code",
   "execution_count": 124,
   "metadata": {},
   "outputs": [
    {
     "name": "stdout",
     "output_type": "stream",
     "text": [
      "None\n",
      "no match\n"
     ]
    }
   ],
   "source": [
    "tele_num_spaces = '123 456 7890'\n",
    "m = re.match(pattern='\\d{10}', string = tele_num_spaces)\n",
    "print(m)\n",
    "\n",
    "if m:\n",
    "    print('match')\n",
    "else:\n",
    "    print('no match')\n",
    "#숫자사이에 공백이 있어 패턴과 맞지않음"
   ]
  },
  {
   "cell_type": "code",
   "execution_count": 127,
   "metadata": {},
   "outputs": [
    {
     "name": "stdout",
     "output_type": "stream",
     "text": [
      "<re.Match object; span=(0, 12), match='123 456 7890'>\n"
     ]
    }
   ],
   "source": [
    "p = '\\d{3}\\s?\\d{3}\\s?\\d{4}'\n",
    "m = re.match(pattern = p, string = tele_num_spaces)\n",
    "print(m)"
   ]
  },
  {
   "cell_type": "code",
   "execution_count": 129,
   "metadata": {},
   "outputs": [
    {
     "name": "stdout",
     "output_type": "stream",
     "text": [
      "<re.Match object; span=(0, 14), match='(123) 456-7890'>\n"
     ]
    }
   ],
   "source": [
    "#지역코드 있는 경우\n",
    "tele_num_space_paren_dash = '(123) 456-7890'\n",
    "p = '\\(?\\d{3}\\)?\\s?\\d{3}\\s?-?\\d{4}'\n",
    "m = re.match(pattern=p, string = tele_num_space_paren_dash)\n",
    "print(m)"
   ]
  },
  {
   "cell_type": "code",
   "execution_count": 130,
   "metadata": {},
   "outputs": [
    {
     "name": "stdout",
     "output_type": "stream",
     "text": [
      "<re.Match object; span=(0, 17), match='+1 (123) 456-7890'>\n"
     ]
    }
   ],
   "source": [
    "#국가 코드까지 있는 경우\n",
    "cnty_tele_num_space_paren_dash = '+1 (123) 456-7890'\n",
    "p = '\\+?1\\s?\\(?\\d{3}\\)?\\s?\\d{3}\\s?-?\\d{4}'\n",
    "m = re.match(pattern=p, string=cnty_tele_num_space_paren_dash)\n",
    "print(m)\n"
   ]
  },
  {
   "cell_type": "markdown",
   "metadata": {},
   "source": [
    "##### compile 메서드로 정규식 사용"
   ]
  },
  {
   "cell_type": "code",
   "execution_count": 131,
   "metadata": {},
   "outputs": [
    {
     "name": "stdout",
     "output_type": "stream",
     "text": [
      "<re.Match object; span=(0, 10), match='1234567890'>\n"
     ]
    }
   ],
   "source": [
    "p = re.compile('\\d{10}')\n",
    "s = '1234567890'\n",
    "m = p.match(s)\n",
    "print(m)"
   ]
  }
 ],
 "metadata": {
  "kernelspec": {
   "display_name": "Python 3.9.7 ('base')",
   "language": "python",
   "name": "python3"
  },
  "language_info": {
   "codemirror_mode": {
    "name": "ipython",
    "version": 3
   },
   "file_extension": ".py",
   "mimetype": "text/x-python",
   "name": "python",
   "nbconvert_exporter": "python",
   "pygments_lexer": "ipython3",
   "version": "3.9.7"
  },
  "orig_nbformat": 4,
  "vscode": {
   "interpreter": {
    "hash": "800fc19d2b578b3cea7f95541b40e86ff3796b71a0567e3a83f75cf2f90a080c"
   }
  }
 },
 "nbformat": 4,
 "nbformat_minor": 2
}
