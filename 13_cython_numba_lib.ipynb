{
 "cells": [
  {
   "cell_type": "markdown",
   "metadata": {},
   "source": [
    "# 성능향상 - cython, numba 라이브러리"
   ]
  },
  {
   "cell_type": "markdown",
   "metadata": {},
   "source": [
    "### 코드 성능 향상시켜 실행시간측정 - timeit\n",
    "    timeit - 실행시간 측정에 사용하는 파이썬 문장\n",
    "    실행시간 측정코드 앞에 %%timeit 이라고 씀\n",
    "    주로 성능저하시키는 부분 확인을 위해 사용"
   ]
  },
  {
   "cell_type": "code",
   "execution_count": 1,
   "metadata": {},
   "outputs": [],
   "source": [
    "import pandas as pd\n",
    "import numpy as np"
   ]
  },
  {
   "cell_type": "markdown",
   "metadata": {},
   "source": [
    "##### 판다스 데이터프레임 - 실행시간 측정"
   ]
  },
  {
   "cell_type": "code",
   "execution_count": null,
   "metadata": {},
   "outputs": [],
   "source": [
    "df = pd.DataFrame({'a':[10, 20, 30], 'b':[20, 30, 40]})\n",
    "\n",
    "def avg_2_apply(row):\n",
    "    x = row[0]\n",
    "    y = row[1]\n",
    "    if (x == 20):\n",
    "        return np.nan\n",
    "    else:\n",
    "        return (x + y) / 2"
   ]
  },
  {
   "cell_type": "code",
   "execution_count": 2,
   "metadata": {},
   "outputs": [
    {
     "name": "stdout",
     "output_type": "stream",
     "text": [
      "319 µs ± 2.63 µs per loop (mean ± std. dev. of 7 runs, 1000 loops each)\n"
     ]
    }
   ],
   "source": [
    "#판다스 데이터 프레임 실행시간 측정\n",
    "%%timeit\n",
    "df.apply(avg_2_apply, axis=1)\n",
    "\n",
    "'''\n",
    "319 µs ± 2.63 µs per loop (mean ± std. dev. of 7 runs, 1000 loops each)\n",
    "1바퀴 돌릴때 319마이크로초 +- 오차범위 2.63 마이크로 초\n",
    "\n",
    "총 1000번 돌려서 나온 수치\n",
    "'''"
   ]
  },
  {
   "cell_type": "markdown",
   "metadata": {},
   "source": [
    "##### 넘파이로 벡터화한 함수 사용 - 실행시간 측정\n"
   ]
  },
  {
   "cell_type": "code",
   "execution_count": null,
   "metadata": {},
   "outputs": [],
   "source": [
    "@np.vectorize\n",
    "def v_avg_2_mod(x, y):\n",
    "    if (x==20):\n",
    "        return(np.NaN)\n",
    "    else:\n",
    "        return (x + y) / 2"
   ]
  },
  {
   "cell_type": "code",
   "execution_count": 4,
   "metadata": {},
   "outputs": [
    {
     "name": "stdout",
     "output_type": "stream",
     "text": [
      "43.4 µs ± 1.14 µs per loop (mean ± std. dev. of 7 runs, 10000 loops each)\n"
     ]
    }
   ],
   "source": [
    "%%timeit\n",
    "v_avg_2_mod(df['a'], df['b'])"
   ]
  },
  {
   "cell_type": "markdown",
   "metadata": {},
   "source": [
    "##### numba 라이브러리로 벡터화한 함수 사용 - 실행시간 측정"
   ]
  },
  {
   "cell_type": "code",
   "execution_count": 8,
   "metadata": {},
   "outputs": [],
   "source": [
    "import numba\n",
    "\n",
    "@numba.vectorize\n",
    "def v_avg_2_numba(x,y):\n",
    "    if (int(x) == 20):\n",
    "        return(np.NaN)\n",
    "    else:\n",
    "        return (x + y) / 2"
   ]
  },
  {
   "cell_type": "code",
   "execution_count": 9,
   "metadata": {},
   "outputs": [
    {
     "name": "stdout",
     "output_type": "stream",
     "text": [
      "7.16 µs ± 95.1 ns per loop (mean ± std. dev. of 7 runs, 100000 loops each)\n"
     ]
    }
   ],
   "source": [
    "%%timeit\n",
    "v_avg_2_numba(df['a'].values, df['b'].values)"
   ]
  },
  {
   "cell_type": "markdown",
   "metadata": {},
   "source": [
    "numba 라이브러리로 벡터화한 함수가 가장 빠른 연산속도를 보여줌"
   ]
  },
  {
   "cell_type": "markdown",
   "metadata": {},
   "source": [
    "# 파이썬 콘퍼런스 소개\n",
    "    최신 기술 동향 파악"
   ]
  },
  {
   "cell_type": "markdown",
   "metadata": {},
   "source": [
    "### 파이콘\n",
    "    규모가 큰 파이썬 콘퍼런스 중 하나\n",
    "    https://www.youtube.com/channel/UC26x6D5xpKx6io4ShfXa_Ow"
   ]
  },
  {
   "cell_type": "markdown",
   "metadata": {},
   "source": [
    "### 사이파이(SciPy), 유로 사이파이(EuroSciPy)\n",
    "    과학 및 분석 주제에 파이썬 결합한 내용을 주로 다룸\n",
    "    https://www.youtube.com/c/enthought/featured\n",
    "    https://www.youtube.com/watch?v=ZlJ4NZoj1Lk\n"
   ]
  }
 ],
 "metadata": {
  "kernelspec": {
   "display_name": "Python 3.9.7 ('base')",
   "language": "python",
   "name": "python3"
  },
  "language_info": {
   "codemirror_mode": {
    "name": "ipython",
    "version": 3
   },
   "file_extension": ".py",
   "mimetype": "text/x-python",
   "name": "python",
   "nbconvert_exporter": "python",
   "pygments_lexer": "ipython3",
   "version": "3.9.7"
  },
  "orig_nbformat": 4,
  "vscode": {
   "interpreter": {
    "hash": "800fc19d2b578b3cea7f95541b40e86ff3796b71a0567e3a83f75cf2f90a080c"
   }
  }
 },
 "nbformat": 4,
 "nbformat_minor": 2
}
